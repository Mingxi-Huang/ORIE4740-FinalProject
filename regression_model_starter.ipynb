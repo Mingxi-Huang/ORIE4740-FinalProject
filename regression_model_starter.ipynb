{
 "cells": [
  {
   "source": [
    "Columns of our final table:\n",
    "* cid (pk)\n",
    "* company total fund raised (response)\n",
    "* company highest degree (PhD > Master > Bachelor)\n",
    "* company main_people subject (sum of subject one hot)\n",
    "* company location (state)\n",
    "* company num_investors\n",
    "\n"
   ],
   "cell_type": "markdown",
   "metadata": {}
  },
  {
   "cell_type": "code",
   "execution_count": null,
   "metadata": {},
   "outputs": [],
   "source": [
    "import numpy as np \n",
    "import pandas as pd \n"
   ]
  },
  {
   "cell_type": "code",
   "execution_count": null,
   "metadata": {},
   "outputs": [],
   "source": []
  }
 ],
 "metadata": {
  "kernelspec": {
   "display_name": "Python 3",
   "language": "python",
   "name": "python3"
  },
  "language_info": {
   "codemirror_mode": {
    "name": "ipython",
    "version": 3
   },
   "file_extension": ".py",
   "mimetype": "text/x-python",
   "name": "python",
   "nbconvert_exporter": "python",
   "pygments_lexer": "ipython3",
   "version": "3.7.10"
  }
 },
 "nbformat": 4,
 "nbformat_minor": 4
}