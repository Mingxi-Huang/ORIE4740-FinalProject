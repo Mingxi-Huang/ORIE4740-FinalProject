{
 "cells": [
  {
   "cell_type": "markdown",
   "metadata": {},
   "source": [
    "# FINAL PROJECT: STARTUPS RAISED AMOUNT (REGRESSION)"
   ]
  },
  {
   "cell_type": "markdown",
   "metadata": {},
   "source": [
    "Columns of our final table:\n",
    "* cid (pk)\n",
    "* company total fund raised (response)\n",
    "* company highest degree (PhD > Master > Bachelor)\n",
    "* company main_people subject (sum of subject one hot)\n",
    "* company location (state)\n",
    "* company num_investors\n",
    "\n"
   ]
  },
  {
   "cell_type": "code",
   "execution_count": 1,
   "metadata": {},
   "outputs": [],
   "source": [
    "import numpy as np \n",
    "import pandas as pd \n",
    "import sklearn \n",
    "import os\n",
    "import random"
   ]
  },
  {
   "cell_type": "code",
   "execution_count": 2,
   "metadata": {},
   "outputs": [],
   "source": [
    "from sklearn.preprocessing import StandardScaler\n",
    "from sklearn.model_selection import train_test_split, cross_val_score, GridSearchCV"
   ]
  },
  {
   "cell_type": "code",
   "execution_count": 3,
   "metadata": {},
   "outputs": [],
   "source": [
    "df = pd.read_csv(\"data_final.csv\")\n",
    "df.drop(columns=['Unnamed: 0'], inplace=True)\n",
    "features = df.columns\n",
    "features = features.drop(['name', 'ipo','funded_object_id','raised_amount_usd'])"
   ]
  },
  {
   "cell_type": "code",
   "execution_count": 4,
   "metadata": {},
   "outputs": [
    {
     "data": {
      "text/plain": [
       "Index(['num_investors', 'type_Bachelor', 'type_Master', 'type_Other',\n",
       "       'type_OtherDiploma', 'type_PhD', 'subject_Accounting',\n",
       "       'subject_Accounting and Finance', 'subject_Advertising',\n",
       "       'subject_Aerospace Engineering',\n",
       "       ...\n",
       "       'state_TN', 'state_TX', 'state_UT', 'state_VA', 'state_VT', 'state_WA',\n",
       "       'state_WI', 'state_WV', 'state_WY', 'state_not specified'],\n",
       "      dtype='object', length=158)"
      ]
     },
     "execution_count": 4,
     "metadata": {},
     "output_type": "execute_result"
    }
   ],
   "source": [
    "features"
   ]
  },
  {
   "cell_type": "code",
   "execution_count": 5,
   "metadata": {},
   "outputs": [],
   "source": [
    "# df[features] = StandardScaler().fit_transform(df[features])"
   ]
  },
  {
   "cell_type": "code",
   "execution_count": 6,
   "metadata": {},
   "outputs": [],
   "source": [
    "y = df['raised_amount_usd']\n",
    "X = df[features]"
   ]
  },
  {
   "cell_type": "code",
   "execution_count": 7,
   "metadata": {},
   "outputs": [],
   "source": [
    "X_train, X_test, y_train, y_test = train_test_split(X, y, test_size=0.2, random_state=1)\n",
    "X_train, X_val, y_train, y_val = train_test_split(X_train, y_train, test_size=0.25, random_state=1) # 0.25 x 0.8 = 0.2"
   ]
  },
  {
   "cell_type": "code",
   "execution_count": 8,
   "metadata": {
    "scrolled": true
   },
   "outputs": [
    {
     "data": {
      "text/plain": [
       "Index(['num_investors', 'type_Bachelor', 'type_Master', 'type_Other',\n",
       "       'type_OtherDiploma', 'type_PhD', 'subject_Accounting',\n",
       "       'subject_Accounting and Finance', 'subject_Advertising',\n",
       "       'subject_Aerospace Engineering',\n",
       "       ...\n",
       "       'state_TN', 'state_TX', 'state_UT', 'state_VA', 'state_VT', 'state_WA',\n",
       "       'state_WI', 'state_WV', 'state_WY', 'state_not specified'],\n",
       "      dtype='object', length=158)"
      ]
     },
     "execution_count": 8,
     "metadata": {},
     "output_type": "execute_result"
    }
   ],
   "source": [
    "features"
   ]
  },
  {
   "cell_type": "code",
   "execution_count": null,
   "metadata": {},
   "outputs": [],
   "source": []
  },
  {
   "cell_type": "code",
   "execution_count": null,
   "metadata": {},
   "outputs": [],
   "source": []
  },
  {
   "cell_type": "code",
   "execution_count": 9,
   "metadata": {},
   "outputs": [
    {
     "data": {
      "text/html": [
       "<div>\n",
       "<style scoped>\n",
       "    .dataframe tbody tr th:only-of-type {\n",
       "        vertical-align: middle;\n",
       "    }\n",
       "\n",
       "    .dataframe tbody tr th {\n",
       "        vertical-align: top;\n",
       "    }\n",
       "\n",
       "    .dataframe thead th {\n",
       "        text-align: right;\n",
       "    }\n",
       "</style>\n",
       "<table border=\"1\" class=\"dataframe\">\n",
       "  <thead>\n",
       "    <tr style=\"text-align: right;\">\n",
       "      <th></th>\n",
       "      <th>num_investors</th>\n",
       "      <th>type_Bachelor</th>\n",
       "      <th>type_Master</th>\n",
       "      <th>type_Other</th>\n",
       "      <th>type_OtherDiploma</th>\n",
       "      <th>type_PhD</th>\n",
       "      <th>subject_Accounting</th>\n",
       "      <th>subject_Accounting and Finance</th>\n",
       "      <th>subject_Advertising</th>\n",
       "      <th>subject_Aerospace Engineering</th>\n",
       "      <th>...</th>\n",
       "      <th>state_TN</th>\n",
       "      <th>state_TX</th>\n",
       "      <th>state_UT</th>\n",
       "      <th>state_VA</th>\n",
       "      <th>state_VT</th>\n",
       "      <th>state_WA</th>\n",
       "      <th>state_WI</th>\n",
       "      <th>state_WV</th>\n",
       "      <th>state_WY</th>\n",
       "      <th>state_not specified</th>\n",
       "    </tr>\n",
       "  </thead>\n",
       "  <tbody>\n",
       "    <tr>\n",
       "      <th>4818</th>\n",
       "      <td>4</td>\n",
       "      <td>2.0</td>\n",
       "      <td>1.0</td>\n",
       "      <td>1.0</td>\n",
       "      <td>0.0</td>\n",
       "      <td>0.0</td>\n",
       "      <td>0.0</td>\n",
       "      <td>0.0</td>\n",
       "      <td>0.0</td>\n",
       "      <td>0.0</td>\n",
       "      <td>...</td>\n",
       "      <td>0.0</td>\n",
       "      <td>0.0</td>\n",
       "      <td>0.0</td>\n",
       "      <td>0.0</td>\n",
       "      <td>0.0</td>\n",
       "      <td>0.0</td>\n",
       "      <td>0.0</td>\n",
       "      <td>0.0</td>\n",
       "      <td>0.0</td>\n",
       "      <td>0.0</td>\n",
       "    </tr>\n",
       "    <tr>\n",
       "      <th>7604</th>\n",
       "      <td>1</td>\n",
       "      <td>0.0</td>\n",
       "      <td>1.0</td>\n",
       "      <td>0.0</td>\n",
       "      <td>0.0</td>\n",
       "      <td>0.0</td>\n",
       "      <td>0.0</td>\n",
       "      <td>0.0</td>\n",
       "      <td>0.0</td>\n",
       "      <td>0.0</td>\n",
       "      <td>...</td>\n",
       "      <td>0.0</td>\n",
       "      <td>0.0</td>\n",
       "      <td>0.0</td>\n",
       "      <td>0.0</td>\n",
       "      <td>0.0</td>\n",
       "      <td>0.0</td>\n",
       "      <td>0.0</td>\n",
       "      <td>0.0</td>\n",
       "      <td>0.0</td>\n",
       "      <td>0.0</td>\n",
       "    </tr>\n",
       "    <tr>\n",
       "      <th>293</th>\n",
       "      <td>17</td>\n",
       "      <td>0.0</td>\n",
       "      <td>4.0</td>\n",
       "      <td>0.0</td>\n",
       "      <td>0.0</td>\n",
       "      <td>0.0</td>\n",
       "      <td>0.0</td>\n",
       "      <td>0.0</td>\n",
       "      <td>0.0</td>\n",
       "      <td>0.0</td>\n",
       "      <td>...</td>\n",
       "      <td>0.0</td>\n",
       "      <td>0.0</td>\n",
       "      <td>0.0</td>\n",
       "      <td>0.0</td>\n",
       "      <td>0.0</td>\n",
       "      <td>0.0</td>\n",
       "      <td>0.0</td>\n",
       "      <td>0.0</td>\n",
       "      <td>0.0</td>\n",
       "      <td>0.0</td>\n",
       "    </tr>\n",
       "    <tr>\n",
       "      <th>4889</th>\n",
       "      <td>10</td>\n",
       "      <td>1.0</td>\n",
       "      <td>3.0</td>\n",
       "      <td>0.0</td>\n",
       "      <td>0.0</td>\n",
       "      <td>0.0</td>\n",
       "      <td>0.0</td>\n",
       "      <td>0.0</td>\n",
       "      <td>0.0</td>\n",
       "      <td>0.0</td>\n",
       "      <td>...</td>\n",
       "      <td>0.0</td>\n",
       "      <td>0.0</td>\n",
       "      <td>0.0</td>\n",
       "      <td>0.0</td>\n",
       "      <td>0.0</td>\n",
       "      <td>0.0</td>\n",
       "      <td>0.0</td>\n",
       "      <td>0.0</td>\n",
       "      <td>0.0</td>\n",
       "      <td>0.0</td>\n",
       "    </tr>\n",
       "    <tr>\n",
       "      <th>2622</th>\n",
       "      <td>3</td>\n",
       "      <td>3.0</td>\n",
       "      <td>4.0</td>\n",
       "      <td>0.0</td>\n",
       "      <td>0.0</td>\n",
       "      <td>1.0</td>\n",
       "      <td>0.0</td>\n",
       "      <td>0.0</td>\n",
       "      <td>0.0</td>\n",
       "      <td>0.0</td>\n",
       "      <td>...</td>\n",
       "      <td>0.0</td>\n",
       "      <td>0.0</td>\n",
       "      <td>0.0</td>\n",
       "      <td>0.0</td>\n",
       "      <td>0.0</td>\n",
       "      <td>0.0</td>\n",
       "      <td>0.0</td>\n",
       "      <td>0.0</td>\n",
       "      <td>0.0</td>\n",
       "      <td>0.0</td>\n",
       "    </tr>\n",
       "    <tr>\n",
       "      <th>...</th>\n",
       "      <td>...</td>\n",
       "      <td>...</td>\n",
       "      <td>...</td>\n",
       "      <td>...</td>\n",
       "      <td>...</td>\n",
       "      <td>...</td>\n",
       "      <td>...</td>\n",
       "      <td>...</td>\n",
       "      <td>...</td>\n",
       "      <td>...</td>\n",
       "      <td>...</td>\n",
       "      <td>...</td>\n",
       "      <td>...</td>\n",
       "      <td>...</td>\n",
       "      <td>...</td>\n",
       "      <td>...</td>\n",
       "      <td>...</td>\n",
       "      <td>...</td>\n",
       "      <td>...</td>\n",
       "      <td>...</td>\n",
       "      <td>...</td>\n",
       "    </tr>\n",
       "    <tr>\n",
       "      <th>8424</th>\n",
       "      <td>1</td>\n",
       "      <td>1.0</td>\n",
       "      <td>0.0</td>\n",
       "      <td>0.0</td>\n",
       "      <td>0.0</td>\n",
       "      <td>3.0</td>\n",
       "      <td>0.0</td>\n",
       "      <td>0.0</td>\n",
       "      <td>0.0</td>\n",
       "      <td>0.0</td>\n",
       "      <td>...</td>\n",
       "      <td>0.0</td>\n",
       "      <td>0.0</td>\n",
       "      <td>0.0</td>\n",
       "      <td>0.0</td>\n",
       "      <td>0.0</td>\n",
       "      <td>0.0</td>\n",
       "      <td>0.0</td>\n",
       "      <td>0.0</td>\n",
       "      <td>0.0</td>\n",
       "      <td>0.0</td>\n",
       "    </tr>\n",
       "    <tr>\n",
       "      <th>425</th>\n",
       "      <td>2</td>\n",
       "      <td>3.0</td>\n",
       "      <td>3.0</td>\n",
       "      <td>2.0</td>\n",
       "      <td>0.0</td>\n",
       "      <td>0.0</td>\n",
       "      <td>0.0</td>\n",
       "      <td>0.0</td>\n",
       "      <td>0.0</td>\n",
       "      <td>0.0</td>\n",
       "      <td>...</td>\n",
       "      <td>0.0</td>\n",
       "      <td>0.0</td>\n",
       "      <td>0.0</td>\n",
       "      <td>0.0</td>\n",
       "      <td>0.0</td>\n",
       "      <td>0.0</td>\n",
       "      <td>0.0</td>\n",
       "      <td>0.0</td>\n",
       "      <td>0.0</td>\n",
       "      <td>0.0</td>\n",
       "    </tr>\n",
       "    <tr>\n",
       "      <th>8024</th>\n",
       "      <td>3</td>\n",
       "      <td>0.0</td>\n",
       "      <td>1.0</td>\n",
       "      <td>0.0</td>\n",
       "      <td>0.0</td>\n",
       "      <td>0.0</td>\n",
       "      <td>0.0</td>\n",
       "      <td>0.0</td>\n",
       "      <td>0.0</td>\n",
       "      <td>0.0</td>\n",
       "      <td>...</td>\n",
       "      <td>0.0</td>\n",
       "      <td>0.0</td>\n",
       "      <td>0.0</td>\n",
       "      <td>0.0</td>\n",
       "      <td>0.0</td>\n",
       "      <td>0.0</td>\n",
       "      <td>0.0</td>\n",
       "      <td>0.0</td>\n",
       "      <td>0.0</td>\n",
       "      <td>0.0</td>\n",
       "    </tr>\n",
       "    <tr>\n",
       "      <th>1373</th>\n",
       "      <td>8</td>\n",
       "      <td>1.0</td>\n",
       "      <td>0.0</td>\n",
       "      <td>0.0</td>\n",
       "      <td>0.0</td>\n",
       "      <td>0.0</td>\n",
       "      <td>0.0</td>\n",
       "      <td>0.0</td>\n",
       "      <td>0.0</td>\n",
       "      <td>0.0</td>\n",
       "      <td>...</td>\n",
       "      <td>0.0</td>\n",
       "      <td>0.0</td>\n",
       "      <td>0.0</td>\n",
       "      <td>0.0</td>\n",
       "      <td>0.0</td>\n",
       "      <td>0.0</td>\n",
       "      <td>0.0</td>\n",
       "      <td>0.0</td>\n",
       "      <td>0.0</td>\n",
       "      <td>0.0</td>\n",
       "    </tr>\n",
       "    <tr>\n",
       "      <th>3352</th>\n",
       "      <td>6</td>\n",
       "      <td>3.0</td>\n",
       "      <td>0.0</td>\n",
       "      <td>0.0</td>\n",
       "      <td>0.0</td>\n",
       "      <td>0.0</td>\n",
       "      <td>0.0</td>\n",
       "      <td>0.0</td>\n",
       "      <td>0.0</td>\n",
       "      <td>0.0</td>\n",
       "      <td>...</td>\n",
       "      <td>0.0</td>\n",
       "      <td>0.0</td>\n",
       "      <td>0.0</td>\n",
       "      <td>0.0</td>\n",
       "      <td>0.0</td>\n",
       "      <td>0.0</td>\n",
       "      <td>0.0</td>\n",
       "      <td>0.0</td>\n",
       "      <td>0.0</td>\n",
       "      <td>0.0</td>\n",
       "    </tr>\n",
       "  </tbody>\n",
       "</table>\n",
       "<p>5583 rows × 158 columns</p>\n",
       "</div>"
      ],
      "text/plain": [
       "      num_investors  type_Bachelor  type_Master  type_Other  \\\n",
       "4818              4            2.0          1.0         1.0   \n",
       "7604              1            0.0          1.0         0.0   \n",
       "293              17            0.0          4.0         0.0   \n",
       "4889             10            1.0          3.0         0.0   \n",
       "2622              3            3.0          4.0         0.0   \n",
       "...             ...            ...          ...         ...   \n",
       "8424              1            1.0          0.0         0.0   \n",
       "425               2            3.0          3.0         2.0   \n",
       "8024              3            0.0          1.0         0.0   \n",
       "1373              8            1.0          0.0         0.0   \n",
       "3352              6            3.0          0.0         0.0   \n",
       "\n",
       "      type_OtherDiploma  type_PhD  subject_Accounting  \\\n",
       "4818                0.0       0.0                 0.0   \n",
       "7604                0.0       0.0                 0.0   \n",
       "293                 0.0       0.0                 0.0   \n",
       "4889                0.0       0.0                 0.0   \n",
       "2622                0.0       1.0                 0.0   \n",
       "...                 ...       ...                 ...   \n",
       "8424                0.0       3.0                 0.0   \n",
       "425                 0.0       0.0                 0.0   \n",
       "8024                0.0       0.0                 0.0   \n",
       "1373                0.0       0.0                 0.0   \n",
       "3352                0.0       0.0                 0.0   \n",
       "\n",
       "      subject_Accounting and Finance  subject_Advertising  \\\n",
       "4818                             0.0                  0.0   \n",
       "7604                             0.0                  0.0   \n",
       "293                              0.0                  0.0   \n",
       "4889                             0.0                  0.0   \n",
       "2622                             0.0                  0.0   \n",
       "...                              ...                  ...   \n",
       "8424                             0.0                  0.0   \n",
       "425                              0.0                  0.0   \n",
       "8024                             0.0                  0.0   \n",
       "1373                             0.0                  0.0   \n",
       "3352                             0.0                  0.0   \n",
       "\n",
       "      subject_Aerospace Engineering  ...  state_TN  state_TX  state_UT  \\\n",
       "4818                            0.0  ...       0.0       0.0       0.0   \n",
       "7604                            0.0  ...       0.0       0.0       0.0   \n",
       "293                             0.0  ...       0.0       0.0       0.0   \n",
       "4889                            0.0  ...       0.0       0.0       0.0   \n",
       "2622                            0.0  ...       0.0       0.0       0.0   \n",
       "...                             ...  ...       ...       ...       ...   \n",
       "8424                            0.0  ...       0.0       0.0       0.0   \n",
       "425                             0.0  ...       0.0       0.0       0.0   \n",
       "8024                            0.0  ...       0.0       0.0       0.0   \n",
       "1373                            0.0  ...       0.0       0.0       0.0   \n",
       "3352                            0.0  ...       0.0       0.0       0.0   \n",
       "\n",
       "      state_VA  state_VT  state_WA  state_WI  state_WV  state_WY  \\\n",
       "4818       0.0       0.0       0.0       0.0       0.0       0.0   \n",
       "7604       0.0       0.0       0.0       0.0       0.0       0.0   \n",
       "293        0.0       0.0       0.0       0.0       0.0       0.0   \n",
       "4889       0.0       0.0       0.0       0.0       0.0       0.0   \n",
       "2622       0.0       0.0       0.0       0.0       0.0       0.0   \n",
       "...        ...       ...       ...       ...       ...       ...   \n",
       "8424       0.0       0.0       0.0       0.0       0.0       0.0   \n",
       "425        0.0       0.0       0.0       0.0       0.0       0.0   \n",
       "8024       0.0       0.0       0.0       0.0       0.0       0.0   \n",
       "1373       0.0       0.0       0.0       0.0       0.0       0.0   \n",
       "3352       0.0       0.0       0.0       0.0       0.0       0.0   \n",
       "\n",
       "      state_not specified  \n",
       "4818                  0.0  \n",
       "7604                  0.0  \n",
       "293                   0.0  \n",
       "4889                  0.0  \n",
       "2622                  0.0  \n",
       "...                   ...  \n",
       "8424                  0.0  \n",
       "425                   0.0  \n",
       "8024                  0.0  \n",
       "1373                  0.0  \n",
       "3352                  0.0  \n",
       "\n",
       "[5583 rows x 158 columns]"
      ]
     },
     "execution_count": 9,
     "metadata": {},
     "output_type": "execute_result"
    }
   ],
   "source": [
    "X_train"
   ]
  },
  {
   "cell_type": "markdown",
   "metadata": {},
   "source": [
    "## linear regression"
   ]
  },
  {
   "cell_type": "code",
   "execution_count": 15,
   "metadata": {},
   "outputs": [
    {
     "name": "stderr",
     "output_type": "stream",
     "text": [
      "/Library/Frameworks/Python.framework/Versions/3.7/lib/python3.7/site-packages/sklearn/linear_model/_coordinate_descent.py:476: ConvergenceWarning: Objective did not converge. You might want to increase the number of iterations. Duality gap: 1.832699864074992e+19, tolerance: 5.021666600630577e+18\n",
      "  positive)\n"
     ]
    },
    {
     "name": "stdout",
     "output_type": "stream",
     "text": [
      "The first five prediction [16907387.79523079  6244739.44603524  9718258.93229844 12588470.5072603\n",
      " 20240187.88863637]\n",
      "The real first five labels 4876    10150000.0\n",
      "2253     3200000.0\n",
      "2712    13500000.0\n",
      "3859    15000000.0\n",
      "4197     5100000.0\n",
      "Name: raised_amount_usd, dtype: float64\n",
      "Mean Squared Error 2.163019094864663e+16\n"
     ]
    },
    {
     "name": "stderr",
     "output_type": "stream",
     "text": [
      "/Library/Frameworks/Python.framework/Versions/3.7/lib/python3.7/site-packages/sklearn/linear_model/_coordinate_descent.py:476: ConvergenceWarning: Objective did not converge. You might want to increase the number of iterations. Duality gap: 1.8307072790972416e+19, tolerance: 5.021666600630577e+18\n",
      "  positive)\n"
     ]
    },
    {
     "name": "stdout",
     "output_type": "stream",
     "text": [
      "The first five prediction [16907376.62110651  6244742.63909175  9718117.60412236 12588482.99045729\n",
      " 20240170.97125529]\n",
      "The real first five labels 4876    10150000.0\n",
      "2253     3200000.0\n",
      "2712    13500000.0\n",
      "3859    15000000.0\n",
      "4197     5100000.0\n",
      "Name: raised_amount_usd, dtype: float64\n",
      "Mean Squared Error 2.1630185175203436e+16\n"
     ]
    },
    {
     "name": "stderr",
     "output_type": "stream",
     "text": [
      "/Library/Frameworks/Python.framework/Versions/3.7/lib/python3.7/site-packages/sklearn/linear_model/_coordinate_descent.py:476: ConvergenceWarning: Objective did not converge. You might want to increase the number of iterations. Duality gap: 1.627844502462621e+19, tolerance: 5.021666600630577e+18\n",
      "  positive)\n"
     ]
    },
    {
     "name": "stdout",
     "output_type": "stream",
     "text": [
      "The first five prediction [16906150.25693489  6245100.77400152  9702573.15323022 12589853.45869297\n",
      " 20238306.94263753]\n",
      "The real first five labels 4876    10150000.0\n",
      "2253     3200000.0\n",
      "2712    13500000.0\n",
      "3859    15000000.0\n",
      "4197     5100000.0\n",
      "Name: raised_amount_usd, dtype: float64\n",
      "Mean Squared Error 2.1629550438173308e+16\n",
      "The first five prediction [16848746.59218634  6272435.69335973  8022145.58269056 12718843.35843241\n",
      " 19923299.11094494]\n",
      "The real first five labels 4876    10150000.0\n",
      "2253     3200000.0\n",
      "2712    13500000.0\n",
      "3859    15000000.0\n",
      "4197     5100000.0\n",
      "Name: raised_amount_usd, dtype: float64\n",
      "Mean Squared Error 2.1571149208345376e+16\n",
      "Mean Squared Error 6568622238893356.0\n"
     ]
    }
   ],
   "source": [
    "from sklearn.linear_model import LinearRegression,ElasticNet\n",
    "import sklearn.metrics as metrics\n",
    "\n",
    "for i in [0.1, 1, 100,10000]:\n",
    "    lr = ElasticNet(tol= 0.1,alpha= i, l1_ratio = 1.0)\n",
    "    lr.fit(X_train, y_train)\n",
    "\n",
    "    y_pred = lr.predict(X_val)\n",
    "    print(\"The first five prediction {}\".format(y_pred[:5]))\n",
    "    print(\"The real first five labels {}\".format(y_test[:5]))\n",
    "\n",
    "    mse = metrics.mean_squared_error(y_val, y_pred)\n",
    "    print(\"Mean Squared Error {}\".format(mse))\n",
    "\n",
    "y_pred = lr.predict(X_train)\n",
    "mse = metrics.mean_squared_error(y_train, y_pred)\n",
    "print(\"Mean Squared Error {}\".format(mse))"
   ]
  },
  {
   "cell_type": "markdown",
   "metadata": {},
   "source": [
    "## ncs (num_investor)"
   ]
  },
  {
   "cell_type": "code",
   "execution_count": null,
   "metadata": {},
   "outputs": [],
   "source": [
    "#Acknoledgement: https://www.kaggle.com/renanhuanca/regression-splines"
   ]
  },
  {
   "cell_type": "code",
   "execution_count": 11,
   "metadata": {},
   "outputs": [
    {
     "data": {
      "text/plain": [
       "0        9\n",
       "1        3\n",
       "2        1\n",
       "3       19\n",
       "4        5\n",
       "        ..\n",
       "9302     7\n",
       "9303     4\n",
       "9304     6\n",
       "9305     9\n",
       "9306    14\n",
       "Name: num_investors, Length: 9307, dtype: int64"
      ]
     },
     "execution_count": 11,
     "metadata": {},
     "output_type": "execute_result"
    }
   ],
   "source": [
    "df['num_investors']"
   ]
  },
  {
   "cell_type": "code",
   "execution_count": 12,
   "metadata": {},
   "outputs": [],
   "source": [
    "from matplotlib import pyplot as plt"
   ]
  },
  {
   "cell_type": "code",
   "execution_count": 13,
   "metadata": {},
   "outputs": [
    {
     "data": {
      "text/plain": [
       "(0.0, 1000000000.0)"
      ]
     },
     "execution_count": 13,
     "metadata": {},
     "output_type": "execute_result"
    },
    {
     "data": {
      "image/png": "[encoded data removed]",
      "text/plain": [
       "<Figure size 432x288 with 1 Axes>"
      ]
     },
     "metadata": {
      "needs_background": "light"
     },
     "output_type": "display_data"
    }
   ],
   "source": [
    "plt.scatter(df['num_investors'],df['raised_amount_usd'])\n",
    "plt.ylim(0, 1000000000)"
   ]
  },
  {
   "cell_type": "code",
   "execution_count": 14,
   "metadata": {},
   "outputs": [
    {
     "name": "stdout",
     "output_type": "stream",
     "text": [
      "2.0915537786874108e+16\n"
     ]
    }
   ],
   "source": [
    "from patsy import dmatrix \n",
    "import statsmodels.api as sm\n",
    "import statsmodels.formula.api as smf\n",
    "\n",
    "# generating cubic spline with 3 knots at 25, 40 and 60\n",
    "transformed_x = dmatrix(\"bs(train, knots=(2,3,4), degree=3, include_intercept=False)\"\n",
    "                        , {\"train\": X_train['num_investors']}, return_type='dataframe')\n",
    "\n",
    "# fitting generalized linear model on transformed dataset\n",
    "fit1 = sm.GLM(y_train, transformed_x).fit()\n",
    "\n",
    "# # generating cubic spline with 4 knots\n",
    "# transformed_x2 = dmatrix(\"bs(train, knots=(25,40,50,65), degree=3, include_intercept=False)\", {\"train\": X_train}, return_type='dataframe')\n",
    "\n",
    "# # fitting generalized linear model on transformed dataset\n",
    "# fit2 = sm.GLM(train_y, transformed_x2).fit()\n",
    "\n",
    "# # predictions on both splines\n",
    "pred1 = fit1.predict(dmatrix(\"bs(valid, knots=(2,3,4), include_intercept=False)\", {\"valid\":X_val['num_investors']}\n",
    "                             , return_type='dataframe'))\n",
    "# pred2 = fit2.predict(dmatrix(\"bs(valid, knots=(25, 40,50,65), degree=3, include_intercept=False)\", {\"valid\":valid_x}, return_type='dataframe'))\n",
    "\n",
    "# # calculating rmse\n",
    "rms1 = metrics.mean_squared_error(y_val, pred1)\n",
    "print(rms1)\n",
    "\n",
    "# rms2 = sqrt(mean_squared_error(valid_y, pred2))\n",
    "# print(rms2)\n",
    "\n",
    "# # we wil plot the graph for 70 observations only\n",
    "# xp = np.linspace(valid_x.min(), valid_x.max(), 70)\n",
    "\n",
    "# # make some predictions\n",
    "# pred1 = fit1.predict(dmatrix(\"bs(xp, knots=(25,40,60), include_intercept=False)\", {\"xp\":xp}, return_type='dataframe'))\n",
    "# pred2 = fit2.predict(dmatrix(\"bs(xp, knots=(25,40,50,60), include_intercept=False)\", {\"xp\":xp}, return_type='dataframe'))\n",
    "\n",
    "# # plot the splines and error bands\n",
    "# plt.scatter(data.age, data.wage, facecolor='None', edgecolor='k', alpha=0.1)\n",
    "# plt.plot(xp, pred1, label='Specifying degree=3 with 3 knots')\n",
    "# plt.plot(xp, pred2, label='Specifying degree=3 with 4 knots')\n",
    "# plt.legend()\n",
    "# plt.xlim(15,85)\n",
    "# plt.ylim(0, 350)\n",
    "# plt.xlabel('age')\n",
    "# plt.ylabel('wage')\n",
    "# plt.show()"
   ]
  },
  {
   "cell_type": "markdown",
   "metadata": {},
   "source": [
    "## Random Forest"
   ]
  },
  {
   "cell_type": "code",
   "execution_count": null,
   "metadata": {},
   "outputs": [],
   "source": []
  },
  {
   "cell_type": "code",
   "execution_count": null,
   "metadata": {},
   "outputs": [],
   "source": []
  },
  {
   "cell_type": "markdown",
   "metadata": {},
   "source": [
    "## XGBoost"
   ]
  },
  {
   "cell_type": "code",
   "execution_count": null,
   "metadata": {},
   "outputs": [],
   "source": []
  }
 ],
 "metadata": {
  "kernelspec": {
   "display_name": "Python 3",
   "language": "python",
   "name": "python3"
  },
  "language_info": {
   "codemirror_mode": {
    "name": "ipython",
    "version": 3
   },
   "file_extension": ".py",
   "mimetype": "text/x-python",
   "name": "python",
   "nbconvert_exporter": "python",
   "pygments_lexer": "ipython3",
   "version": "3.7.6"
  }
 },
 "nbformat": 4,
 "nbformat_minor": 4
}
