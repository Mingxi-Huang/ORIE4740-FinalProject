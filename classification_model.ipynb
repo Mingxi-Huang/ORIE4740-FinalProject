{
 "cells": [
  {
   "cell_type": "code",
   "execution_count": null,
   "metadata": {},
   "outputs": [],
   "source": [
    "import sklearn \n",
    "import random\n",
    "import os\n",
    "import pandas as pd\n",
    "import numpy as np\n",
    "from sklearn.preprocessing import StandardScaler\n",
    "from sklearn.model_selection import train_test_split, cross_val_score, GridSearchCV\n",
    "from sklearn.neighbors import KNeighborsClassifier\n",
    "from sklearn.metrics import classification_report, make_scorer, confusion_matrix, accuracy_score\n",
    "from sklearn import svm\n",
    "from sklearn.ensemble import RandomForestClassifier\n",
    "from sklearn.linear_model import LogisticRegression"
   ]
  },
  {
   "cell_type": "code",
   "execution_count": null,
   "metadata": {},
   "outputs": [],
   "source": [
    "df = pd.read_csv(\"data_final.csv\")\n",
    "df.head()\n",
    "# print(df.columns)"
   ]
  },
  {
   "cell_type": "code",
   "execution_count": null,
   "metadata": {},
   "outputs": [],
   "source": [
    "df.drop(columns=['Unnamed: 0'], inplace=True)\n",
    "df"
   ]
  },
  {
   "cell_type": "code",
   "execution_count": null,
   "metadata": {},
   "outputs": [],
   "source": [
    "df_w_dup = df.append(df[df['ipo'] == 1] * 20, ignore_index=True)"
   ]
  },
  {
   "cell_type": "code",
   "execution_count": null,
   "metadata": {},
   "outputs": [],
   "source": [
    "np.sum(df_w_dup['ipo'])"
   ]
  },
  {
   "cell_type": "code",
   "execution_count": null,
   "metadata": {},
   "outputs": [],
   "source": [
    "features = df_w_dup.columns\n",
    "features = features.drop(['name', 'ipo','funded_object_id'])"
   ]
  },
  {
   "cell_type": "code",
   "execution_count": null,
   "metadata": {},
   "outputs": [],
   "source": [
    "#scaling on features\n",
    "df_w_dup[features] = StandardScaler().fit_transform(df_w_dup[features])\n",
    "df_w_dup[features]"
   ]
  },
  {
   "cell_type": "code",
   "execution_count": null,
   "metadata": {},
   "outputs": [],
   "source": [
    "# computing weighted accuracy from CS4780\n",
    "def weighted_accuracy(pred, true):\n",
    "    assert(len(pred) == len(true))\n",
    "    num_labels = len(true)\n",
    "    num_pos = sum(true)\n",
    "    num_neg = num_labels - num_pos\n",
    "    frac_pos = num_pos/num_labels\n",
    "    weight_pos = 1/frac_pos\n",
    "    weight_neg = 1/(1-frac_pos)\n",
    "    num_pos_correct = 0\n",
    "    num_neg_correct = 0\n",
    "    for pred_i, true_i in zip(pred, true):\n",
    "        num_pos_correct += (pred_i == true_i and true_i == 1)\n",
    "        num_neg_correct += (pred_i == true_i and true_i == 0)\n",
    "    weighted_accuracy = ((weight_pos * num_pos_correct) \n",
    "                         + (weight_neg * num_neg_correct))/((weight_pos * num_pos) + (weight_neg * num_neg))\n",
    "    return weighted_accuracy\n",
    "\n",
    "#custom scorer based on weighted accuracy function given\n",
    "def weighted_accuracy_switched(y, y_pred):\n",
    "    return weighted_accuracy(y_pred, y)\n",
    "\n",
    "weighted_accuracy_score = make_scorer(weighted_accuracy_switched, greater_is_better = True)"
   ]
  },
  {
   "cell_type": "code",
   "execution_count": null,
   "metadata": {},
   "outputs": [],
   "source": [
    "Y = df_w_dup['ipo']\n",
    "X = df_w_dup[features]"
   ]
  },
  {
   "cell_type": "code",
   "execution_count": null,
   "metadata": {},
   "outputs": [],
   "source": [
    "#first try on knn\n",
    "X_train, X_test, y_train, y_test = train_test_split(X, Y, test_size = 0.3)\n",
    "\n",
    "tuned_parameters = [{'n_neighbors':[1, 3, 5, 7, 9, 11, 15, 21, 35, 51], 'weights': ['uniform', 'distance']}]\n",
    "\n",
    "knn_cv = KNeighborsClassifier(n_neighbors = 3)\n",
    "knn_cv_scores = cross_val_score(knn_cv, X, Y, cv=5, scoring=weighted_accuracy_score)\n",
    "# knn_cv_scores\n",
    "print(\"Accuracy: %0.2f (+/- %0.2f)\" % (knn_cv_scores.mean(), knn_cv_scores.std() * 2))\n",
    "\n",
    "print(\"# Tuning KNN hyper-parameters for weighted accuracy\")\n",
    "print()\n",
    "\n",
    "knn_clf = GridSearchCV(KNeighborsClassifier(), tuned_parameters, scoring=weighted_accuracy_score)\n",
    "knn_clf.fit(X_train, y_train)\n",
    "\n",
    "print(\"Best parameters set found on train set:\")\n",
    "print()\n",
    "print(knn_clf.best_params_)\n",
    "print()\n",
    "print(\"Grid scores on train set:\")\n",
    "print()\n",
    "means = knn_clf.cv_results_['mean_test_score']\n",
    "stds = knn_clf.cv_results_['std_test_score']\n",
    "for mean, std, params in zip(means, stds, knn_clf.cv_results_['params']):\n",
    "    print(\"%0.3f (+/-%0.03f) for %r\"\n",
    "          % (mean, std * 2, params))\n",
    "print()\n",
    "\n",
    "print(\"Detailed classification report:\")\n",
    "print()\n",
    "print(\"The model is trained on the full train set.\")\n",
    "print(\"The scores are computed on the full test set.\")\n",
    "print()\n",
    "y_true, y_pred = y_test, knn_clf.predict(X_test)\n",
    "print(classification_report(y_true, y_pred))\n",
    "print()"
   ]
  },
  {
   "cell_type": "code",
   "execution_count": null,
   "metadata": {},
   "outputs": [],
   "source": [
    "#svm cross validation {'C': 10000.0, 'gamma': 0.05, 'kernel': 'rbf'}\n",
    "X_train, X_test, y_train, y_test = train_test_split(X, Y, test_size = 0.3)\n",
    "\n",
    "tuned_parameters = [{'kernel': ['poly', 'rbf', 'linear', 'sigmoid'], 'gamma': [0.1,0.05,0.01], 'C': [1e-2, 1e-1, 1, 10, 100]}]\n",
    "\n",
    "print(\"# Tuning SVM hyper-parameters for weighted accuracy\")\n",
    "print()\n",
    "\n",
    "svm_clf = GridSearchCV(svm.SVC(), tuned_parameters, weighted_accuracy_score)\n",
    "svm_clf.fit(X_train, y_train)\n",
    "\n",
    "print(\"Best parameters set found on train set:\")\n",
    "print()\n",
    "print(svm_clf.best_params_)\n",
    "print()\n",
    "print(\"Grid scores on train set:\")\n",
    "print()\n",
    "means = svm_clf.cv_results_['mean_test_score']\n",
    "stds = svm_clf.cv_results_['std_test_score']\n",
    "for mean, std, params in zip(means, stds, svm_clf.cv_results_['params']):\n",
    "    print(\"%0.3f (+/-%0.03f) for %r\"\n",
    "          % (mean, std * 2, params))\n",
    "print()\n",
    "\n",
    "print(\"Detailed classification report:\")\n",
    "print()\n",
    "print(\"The model is trained on the full train set.\")\n",
    "print(\"The scores are computed on the full test set.\")\n",
    "print()\n",
    "y_true, y_pred = y_test, svm_clf.predict(X_test)\n",
    "print(classification_report(y_true, y_pred))\n",
    "print()"
   ]
  },
  {
   "cell_type": "code",
   "execution_count": null,
   "metadata": {},
   "outputs": [],
   "source": [
    "# X_train, X_test, y_train, y_test = train_test_split(X, Y, test_size = 0.5)\n",
    "\n",
    "# regressor = RandomForestClassifier(n_estimators=20, random_state=0)\n",
    "# regressor.fit(X_train, y_train)\n",
    "# y_pred = regressor.predict(X_test)\n",
    "\n",
    "# from sklearn.metrics import classification_report, confusion_matrix, accuracy_score\n",
    "\n",
    "\n",
    "# rfc_cv_score = cross_val_score(regressor, X, Y, cv=10, scoring=weighted_accuracy_score)\n",
    "\n",
    "# print(\"=== Confusion Matrix ===\")\n",
    "# print(confusion_matrix(y_test, y_pred))\n",
    "# print('\\n')\n",
    "# print(\"=== Classification Report ===\")\n",
    "# print(classification_report(y_test, y_pred))\n",
    "# print('\\n')\n",
    "# print(\"=== All AUC Scores ===\")\n",
    "# print(rfc_cv_score)\n",
    "# print('\\n')\n",
    "# print(\"=== Mean AUC Score ===\")\n",
    "# print(\"Mean AUC Score - Random Forest: \", rfc_cv_score.mean())\n"
   ]
  },
  {
   "cell_type": "code",
   "execution_count": null,
   "metadata": {},
   "outputs": [],
   "source": [
    "#third try on decision tree\n",
    "X_train, X_test, y_train, y_test = train_test_split(X, Y, test_size = 0.3)\n",
    "\n",
    "tuned_parameters = [{'n_estimators': [2, 5, 10, 20]}]\n",
    "\n",
    "print(\"# Tuning Random Forest hyper-parameters for weighted accuracy\")\n",
    "print()\n",
    "\n",
    "rf_clf = GridSearchCV(RandomForestClassifier(), tuned_parameters, scoring=weighted_accuracy_score)\n",
    "rf_clf.fit(X_train, y_train)\n",
    "\n",
    "print(\"Best parameters set found on train set:\")\n",
    "print()\n",
    "print(rf_clf.best_params_)\n",
    "print()\n",
    "print(\"Grid scores on train set:\")\n",
    "print()\n",
    "means = rf_clf.cv_results_['mean_test_score']\n",
    "stds = rf_clf.cv_results_['std_test_score']\n",
    "for mean, std, params in zip(means, stds, rf_clf.cv_results_['params']):\n",
    "    print(\"%0.3f (+/-%0.03f) for %r\"\n",
    "          % (mean, std * 2, params))\n",
    "print()\n",
    "\n",
    "print(\"Detailed classification report:\")\n",
    "print()\n",
    "print(\"The model is trained on the full train set.\")\n",
    "print(\"The scores are computed on the full test set.\")\n",
    "print()\n",
    "y_true, y_pred = y_test, rf_clf.predict(X_test)\n",
    "print(classification_report(y_true, y_pred))\n",
    "print()\n"
   ]
  },
  {
   "cell_type": "code",
   "execution_count": null,
   "metadata": {},
   "outputs": [],
   "source": [
    "#fourth try on logistic regression with l1\n",
    "X_train, X_test, y_train, y_test = train_test_split(X, Y, test_size = 0.3)\n",
    "\n",
    "tuned_parameters = {'C' : np.logspace(-3,3,7), 'penalty':['l1'], 'solver':['saga']}\n",
    "# penalty='l1', solver='liblinear'\n",
    "\n",
    "print(\"# Tuning Logistic Regression hyper-parameters for weighted accuracy\")\n",
    "print()\n",
    "\n",
    "logreg_cv = GridSearchCV(LogisticRegression(),tuned_parameters, scoring = weighted_accuracy_score)\n",
    "logreg_cv.fit(X_train,y_train)\n",
    "\n",
    "print(\"Best parameters set found on train set:\")\n",
    "print()\n",
    "print(logreg_cv.best_params_)\n",
    "print()\n",
    "print(\"Grid scores on train set:\")\n",
    "print()\n",
    "means = logreg_cv.cv_results_['mean_test_score']\n",
    "stds = logreg_cv.cv_results_['std_test_score']\n",
    "for mean, std, params in zip(means, stds, logreg_cv.cv_results_['params']):\n",
    "    print(\"%0.3f (+/-%0.03f) for %r\"\n",
    "          % (mean, std * 2, params))\n",
    "print()\n",
    "\n",
    "print(\"Detailed classification report:\")\n",
    "print()\n",
    "print(\"The model is trained on the full train set.\")\n",
    "print(\"The scores are computed on the full test set.\")\n",
    "print()\n",
    "y_true, y_pred = y_test, logreg_cv.predict(X_test)\n",
    "print(classification_report(y_true, y_pred))\n",
    "print()\n"
   ]
  },
  {
   "cell_type": "code",
   "execution_count": null,
   "metadata": {},
   "outputs": [],
   "source": [
    "X_train, X_val, Y_train, Y_val = train_test_split(X, Y, test_size = 0.3, )"
   ]
  },
  {
   "cell_type": "code",
   "execution_count": null,
   "metadata": {},
   "outputs": [],
   "source": [
    "#TODO: insert best parameter here\n",
    "knn_model = KNeighborsClassifier(n_neighbors = n)\n",
    "knn_model.fit(X_train, Y_train)\n",
    "knn_pred = knn_model.predict(X_val)\n",
    "    \n",
    "print(\"The weighted accuracy for knn is:\", weighted_accuracy(knn_pred, Y_val))"
   ]
  },
  {
   "cell_type": "code",
   "execution_count": null,
   "metadata": {},
   "outputs": [],
   "source": [
    "#TODO: insert best parameter here\n",
    "svm_model = svm.SVC(C=C, gamma=,kernel=)\n",
    "svm_model.fit(X_train, Y_train)\n",
    "svm_pred = svm_model.predict(X_val)\n",
    "\n",
    "print(\"The weighted accuracy for svm is:\", weighted_accuracy(svm_pred, Y_val))"
   ]
  },
  {
   "cell_type": "code",
   "execution_count": null,
   "metadata": {},
   "outputs": [],
   "source": [
    "#TODO: insert best parameter here\n",
    "rf_model =RandomForestClassifier(n_estimators=, random_state=0)\n",
    "rf_model.fit(X_train, Y_train)\n",
    "rf_pred = rf_model.predict(X_val)\n",
    "\n",
    "print(\"The weighted accuracy for random forest is:\", weighted_accuracy(rf_pred, Y_val))"
   ]
  },
  {
   "cell_type": "code",
   "execution_count": null,
   "metadata": {},
   "outputs": [],
   "source": [
    "#TODO: insert best parameter here\n",
    "logit_model = LogisticRegression(penalty = 'l1', solver = 'saga',C = )\n",
    "logit_model.fit(X_train, Y_train)\n",
    "logit_pred = logit_model.predict(X_val)\n",
    "\n",
    "print(\"The weighted accuracy for logit is:\", weighted_accuracy(logit_pred, Y_val))"
   ]
  },
  {
   "cell_type": "code",
   "execution_count": null,
   "metadata": {},
   "outputs": [],
   "source": []
  }
 ],
 "metadata": {
  "kernelspec": {
   "display_name": "Python 3",
   "language": "python",
   "name": "python3"
  },
  "language_info": {
   "codemirror_mode": {
    "name": "ipython",
    "version": 3
   },
   "file_extension": ".py",
   "mimetype": "text/x-python",
   "name": "python",
   "nbconvert_exporter": "python",
   "pygments_lexer": "ipython3",
   "version": "3.7.6"
  }
 },
 "nbformat": 4,
 "nbformat_minor": 4
}
